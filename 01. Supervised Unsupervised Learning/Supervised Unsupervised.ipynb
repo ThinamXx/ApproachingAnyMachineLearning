{
  "nbformat": 4,
  "nbformat_minor": 0,
  "metadata": {
    "colab": {
      "name": "Supervised Unsupervised.ipynb",
      "provenance": [],
      "collapsed_sections": []
    },
    "kernelspec": {
      "name": "python3",
      "display_name": "Python 3"
    },
    "language_info": {
      "name": "python"
    }
  },
  "cells": [
    {
      "cell_type": "markdown",
      "metadata": {
        "id": "Oh3TE6aIq341"
      },
      "source": [
        "**INITIALIZATION:**\n",
        "- I use these three lines of code on top of my each notebooks because it will help to prevent any problems while reloading the same project. And the third line of code helps to make visualization within the notebook."
      ]
    },
    {
      "cell_type": "code",
      "metadata": {
        "id": "hWxYMkRRpxRg"
      },
      "source": [
        "#@ INITIALIZATION: \n",
        "%reload_ext autoreload\n",
        "%autoreload 2\n",
        "%matplotlib inline"
      ],
      "execution_count": 1,
      "outputs": []
    },
    {
      "cell_type": "markdown",
      "metadata": {
        "id": "PY428HaqrC6P"
      },
      "source": [
        "**LIBRARIES AND DEPENDENCIES:**\n",
        "- I have downloaded all the libraries and dependencies required for the project in one particular cell."
      ]
    },
    {
      "cell_type": "code",
      "metadata": {
        "id": "zDdNf61Oq-VI"
      },
      "source": [
        "#@ GETTING LIBRARIES AND DEPENDENCIES: \n",
        "import numpy as np\n",
        "import pandas as pd\n",
        "import seaborn as sns\n",
        "import matplotlib\n",
        "import matplotlib.pyplot as plt\n",
        "\n",
        "from sklearn import datasets\n",
        "from sklearn import manifold\n",
        "from sklearn import tree, metrics\n",
        "from sklearn import model_selection\n",
        "%matplotlib inline\n",
        "\n",
        "#@ IGNORING WARNINGS: \n",
        "import warnings\n",
        "warnings.filterwarnings(\"ignore\")"
      ],
      "execution_count": 2,
      "outputs": []
    },
    {
      "cell_type": "markdown",
      "metadata": {
        "id": "jUDeyZOTtjwU"
      },
      "source": [
        "**GETTING THE DATASET:**"
      ]
    },
    {
      "cell_type": "code",
      "metadata": {
        "id": "WlcSF9BctQbb"
      },
      "source": [
        "#@ GETTING THE DATASET: \n",
        "data = datasets.fetch_openml(\"mnist_784\",version=1,return_X_y=True)     # Getting the Dataset. \n",
        "pixel_values, targets = data                                            # Initializing Features and Targets. \n",
        "targets = targets.astype(int)                                           # Converting into Integers. "
      ],
      "execution_count": 3,
      "outputs": []
    },
    {
      "cell_type": "code",
      "metadata": {
        "colab": {
          "base_uri": "https://localhost:8080/",
          "height": 265
        },
        "id": "7hFjryxzud44",
        "outputId": "e29ce37a-e8b7-41da-9a7a-8d8d487aad28"
      },
      "source": [
        "#@ VISUALIZING THE SAMPLES: \n",
        "single_image = pixel_values[1, :].reshape(28, 28)                       # Initializing an Image. \n",
        "plt.imshow(single_image, cmap=\"gray\");                                  # Visualizing an Image. "
      ],
      "execution_count": 4,
      "outputs": [
        {
          "output_type": "display_data",
          "data": {
            "image/png": "[encoded data removed]",
            "text/plain": [
              "<Figure size 432x288 with 1 Axes>"
            ]
          },
          "metadata": {
            "needs_background": "light"
          }
        }
      ]
    },
    {
      "cell_type": "markdown",
      "metadata": {
        "id": "kaIJnzHnwFmM"
      },
      "source": [
        "**TSNE DECOMPOSITION:**\n",
        "- It is a method of visualizing **Unsupervised** dataset. "
      ]
    },
    {
      "cell_type": "code",
      "metadata": {
        "id": "lxAWPLZovuiN"
      },
      "source": [
        "#@ INITIALIZING TSNE DECOMPOSITION: \n",
        "tsne = manifold.TSNE(n_components=2, random_state=42)           # Initializing TSNE. \n",
        "transformed_data = tsne.fit_transform(pixel_values[:3000, :])   # Initializing Transformed Data. "
      ],
      "execution_count": 5,
      "outputs": []
    },
    {
      "cell_type": "code",
      "metadata": {
        "colab": {
          "base_uri": "https://localhost:8080/",
          "height": 142
        },
        "id": "vysD4n8fxMSg",
        "outputId": "8f4da5f1-1acc-401e-c7df-65c76ebd4306"
      },
      "source": [
        "#@ INITIALIZING PANDAS DATAFRAME: \n",
        "tsne_df = pd.DataFrame(                                         # Initializing DataFrame. \n",
        "    np.column_stack((transformed_data, targets[:3000])), \n",
        "    columns=[\"x\", \"y\", \"targets\"])                              # Initializing Columns. \n",
        "tsne_df.loc[:, \"targets\"] = tsne_df.targets.astype(int)         # Converting into Integers. \n",
        "tsne_df.head(3)                                                 # Inspecting DataFrame. "
      ],
      "execution_count": 6,
      "outputs": [
        {
          "output_type": "execute_result",
          "data": {
            "text/html": [
              "<div>\n",
              "<style scoped>\n",
              "    .dataframe tbody tr th:only-of-type {\n",
              "        vertical-align: middle;\n",
              "    }\n",
              "\n",
              "    .dataframe tbody tr th {\n",
              "        vertical-align: top;\n",
              "    }\n",
              "\n",
              "    .dataframe thead th {\n",
              "        text-align: right;\n",
              "    }\n",
              "</style>\n",
              "<table border=\"1\" class=\"dataframe\">\n",
              "  <thead>\n",
              "    <tr style=\"text-align: right;\">\n",
              "      <th></th>\n",
              "      <th>x</th>\n",
              "      <th>y</th>\n",
              "      <th>targets</th>\n",
              "    </tr>\n",
              "  </thead>\n",
              "  <tbody>\n",
              "    <tr>\n",
              "      <th>0</th>\n",
              "      <td>-5.281551</td>\n",
              "      <td>-28.952768</td>\n",
              "      <td>5</td>\n",
              "    </tr>\n",
              "    <tr>\n",
              "      <th>1</th>\n",
              "      <td>-26.105896</td>\n",
              "      <td>-68.069321</td>\n",
              "      <td>0</td>\n",
              "    </tr>\n",
              "    <tr>\n",
              "      <th>2</th>\n",
              "      <td>-42.503582</td>\n",
              "      <td>35.580391</td>\n",
              "      <td>4</td>\n",
              "    </tr>\n",
              "  </tbody>\n",
              "</table>\n",
              "</div>"
            ],
            "text/plain": [
              "           x          y  targets\n",
              "0  -5.281551 -28.952768        5\n",
              "1 -26.105896 -68.069321        0\n",
              "2 -42.503582  35.580391        4"
            ]
          },
          "metadata": {},
          "execution_count": 6
        }
      ]
    },
    {
      "cell_type": "code",
      "metadata": {
        "colab": {
          "base_uri": "https://localhost:8080/",
          "height": 585
        },
        "id": "3vMEN7ZOykWf",
        "outputId": "6950b6fd-1889-4785-d94d-d9e62d302448"
      },
      "source": [
        "#@ PLOTTING THE TRANSFORMED SAMPLES: \n",
        "grid = sns.FacetGrid(tsne_df, hue=\"targets\", size=8)             # Initialization. \n",
        "grid.map(plt.scatter, \"x\", \"y\").add_legend();                    # Plotting. "
      ],
      "execution_count": 7,
      "outputs": [
        {
          "output_type": "display_data",
          "data": {
            "image/png": "[encoded data removed]",
            "text/plain": [
              "<Figure size 619.625x576 with 1 Axes>"
            ]
          },
          "metadata": {
            "needs_background": "light"
          }
        }
      ]
    },
    {
      "cell_type": "markdown",
      "metadata": {
        "id": "Vzd-l6Pb1VH2"
      },
      "source": [
        "**CROSS VALIDATION:**\n",
        "- **Cross Validation** is a step in the process of building a machine learning model which helps us to ensure that our models fit the data accurately and also ensures that we do not overfit. "
      ]
    },
    {
      "cell_type": "code",
      "metadata": {
        "colab": {
          "base_uri": "https://localhost:8080/",
          "height": 173
        },
        "id": "baZ1UeBbzPuW",
        "outputId": "b746a631-0e38-4ee1-f59c-63197419d976"
      },
      "source": [
        "#@ GETTING THE DATASET: \n",
        "PATH = \"/content/drive/MyDrive/AAML/winequality-red.csv\"   # Path to the Dataset. \n",
        "df = pd.read_csv(PATH, low_memory=False)                   # Initializing DataFrame. \n",
        "df.head(4)                                                 # Inspecting DataFrame. "
      ],
      "execution_count": 8,
      "outputs": [
        {
          "output_type": "execute_result",
          "data": {
            "text/html": [
              "<div>\n",
              "<style scoped>\n",
              "    .dataframe tbody tr th:only-of-type {\n",
              "        vertical-align: middle;\n",
              "    }\n",
              "\n",
              "    .dataframe tbody tr th {\n",
              "        vertical-align: top;\n",
              "    }\n",
              "\n",
              "    .dataframe thead th {\n",
              "        text-align: right;\n",
              "    }\n",
              "</style>\n",
              "<table border=\"1\" class=\"dataframe\">\n",
              "  <thead>\n",
              "    <tr style=\"text-align: right;\">\n",
              "      <th></th>\n",
              "      <th>fixed acidity</th>\n",
              "      <th>volatile acidity</th>\n",
              "      <th>citric acid</th>\n",
              "      <th>residual sugar</th>\n",
              "      <th>chlorides</th>\n",
              "      <th>free sulfur dioxide</th>\n",
              "      <th>total sulfur dioxide</th>\n",
              "      <th>density</th>\n",
              "      <th>pH</th>\n",
              "      <th>sulphates</th>\n",
              "      <th>alcohol</th>\n",
              "      <th>quality</th>\n",
              "    </tr>\n",
              "  </thead>\n",
              "  <tbody>\n",
              "    <tr>\n",
              "      <th>0</th>\n",
              "      <td>7.4</td>\n",
              "      <td>0.70</td>\n",
              "      <td>0.00</td>\n",
              "      <td>1.9</td>\n",
              "      <td>0.076</td>\n",
              "      <td>11.0</td>\n",
              "      <td>34.0</td>\n",
              "      <td>0.9978</td>\n",
              "      <td>3.51</td>\n",
              "      <td>0.56</td>\n",
              "      <td>9.4</td>\n",
              "      <td>5</td>\n",
              "    </tr>\n",
              "    <tr>\n",
              "      <th>1</th>\n",
              "      <td>7.8</td>\n",
              "      <td>0.88</td>\n",
              "      <td>0.00</td>\n",
              "      <td>2.6</td>\n",
              "      <td>0.098</td>\n",
              "      <td>25.0</td>\n",
              "      <td>67.0</td>\n",
              "      <td>0.9968</td>\n",
              "      <td>3.20</td>\n",
              "      <td>0.68</td>\n",
              "      <td>9.8</td>\n",
              "      <td>5</td>\n",
              "    </tr>\n",
              "    <tr>\n",
              "      <th>2</th>\n",
              "      <td>7.8</td>\n",
              "      <td>0.76</td>\n",
              "      <td>0.04</td>\n",
              "      <td>2.3</td>\n",
              "      <td>0.092</td>\n",
              "      <td>15.0</td>\n",
              "      <td>54.0</td>\n",
              "      <td>0.9970</td>\n",
              "      <td>3.26</td>\n",
              "      <td>0.65</td>\n",
              "      <td>9.8</td>\n",
              "      <td>5</td>\n",
              "    </tr>\n",
              "    <tr>\n",
              "      <th>3</th>\n",
              "      <td>11.2</td>\n",
              "      <td>0.28</td>\n",
              "      <td>0.56</td>\n",
              "      <td>1.9</td>\n",
              "      <td>0.075</td>\n",
              "      <td>17.0</td>\n",
              "      <td>60.0</td>\n",
              "      <td>0.9980</td>\n",
              "      <td>3.16</td>\n",
              "      <td>0.58</td>\n",
              "      <td>9.8</td>\n",
              "      <td>6</td>\n",
              "    </tr>\n",
              "  </tbody>\n",
              "</table>\n",
              "</div>"
            ],
            "text/plain": [
              "   fixed acidity  volatile acidity  citric acid  ...  sulphates  alcohol  quality\n",
              "0            7.4              0.70         0.00  ...       0.56      9.4        5\n",
              "1            7.8              0.88         0.00  ...       0.68      9.8        5\n",
              "2            7.8              0.76         0.04  ...       0.65      9.8        5\n",
              "3           11.2              0.28         0.56  ...       0.58      9.8        6\n",
              "\n",
              "[4 rows x 12 columns]"
            ]
          },
          "metadata": {},
          "execution_count": 8
        }
      ]
    },
    {
      "cell_type": "code",
      "metadata": {
        "colab": {
          "base_uri": "https://localhost:8080/",
          "height": 173
        },
        "id": "UDLJVVgV3ygp",
        "outputId": "ff56d8b9-8572-4eec-a411-3b498213da94"
      },
      "source": [
        "#@ PREPARING THE DATASET: \n",
        "quality_mapping = {3:0, 4:1, 5:2, 6:3, 7:4, 8:5}           # Initializing Mapping Dictionary. \n",
        "df.loc[:, \"quality\"] = df.quality.map(quality_mapping)     # Mapping Quality Values. \n",
        "df.head(4)                                                 # Inspecting DataFrame. "
      ],
      "execution_count": 9,
      "outputs": [
        {
          "output_type": "execute_result",
          "data": {
            "text/html": [
              "<div>\n",
              "<style scoped>\n",
              "    .dataframe tbody tr th:only-of-type {\n",
              "        vertical-align: middle;\n",
              "    }\n",
              "\n",
              "    .dataframe tbody tr th {\n",
              "        vertical-align: top;\n",
              "    }\n",
              "\n",
              "    .dataframe thead th {\n",
              "        text-align: right;\n",
              "    }\n",
              "</style>\n",
              "<table border=\"1\" class=\"dataframe\">\n",
              "  <thead>\n",
              "    <tr style=\"text-align: right;\">\n",
              "      <th></th>\n",
              "      <th>fixed acidity</th>\n",
              "      <th>volatile acidity</th>\n",
              "      <th>citric acid</th>\n",
              "      <th>residual sugar</th>\n",
              "      <th>chlorides</th>\n",
              "      <th>free sulfur dioxide</th>\n",
              "      <th>total sulfur dioxide</th>\n",
              "      <th>density</th>\n",
              "      <th>pH</th>\n",
              "      <th>sulphates</th>\n",
              "      <th>alcohol</th>\n",
              "      <th>quality</th>\n",
              "    </tr>\n",
              "  </thead>\n",
              "  <tbody>\n",
              "    <tr>\n",
              "      <th>0</th>\n",
              "      <td>7.4</td>\n",
              "      <td>0.70</td>\n",
              "      <td>0.00</td>\n",
              "      <td>1.9</td>\n",
              "      <td>0.076</td>\n",
              "      <td>11.0</td>\n",
              "      <td>34.0</td>\n",
              "      <td>0.9978</td>\n",
              "      <td>3.51</td>\n",
              "      <td>0.56</td>\n",
              "      <td>9.4</td>\n",
              "      <td>2</td>\n",
              "    </tr>\n",
              "    <tr>\n",
              "      <th>1</th>\n",
              "      <td>7.8</td>\n",
              "      <td>0.88</td>\n",
              "      <td>0.00</td>\n",
              "      <td>2.6</td>\n",
              "      <td>0.098</td>\n",
              "      <td>25.0</td>\n",
              "      <td>67.0</td>\n",
              "      <td>0.9968</td>\n",
              "      <td>3.20</td>\n",
              "      <td>0.68</td>\n",
              "      <td>9.8</td>\n",
              "      <td>2</td>\n",
              "    </tr>\n",
              "    <tr>\n",
              "      <th>2</th>\n",
              "      <td>7.8</td>\n",
              "      <td>0.76</td>\n",
              "      <td>0.04</td>\n",
              "      <td>2.3</td>\n",
              "      <td>0.092</td>\n",
              "      <td>15.0</td>\n",
              "      <td>54.0</td>\n",
              "      <td>0.9970</td>\n",
              "      <td>3.26</td>\n",
              "      <td>0.65</td>\n",
              "      <td>9.8</td>\n",
              "      <td>2</td>\n",
              "    </tr>\n",
              "    <tr>\n",
              "      <th>3</th>\n",
              "      <td>11.2</td>\n",
              "      <td>0.28</td>\n",
              "      <td>0.56</td>\n",
              "      <td>1.9</td>\n",
              "      <td>0.075</td>\n",
              "      <td>17.0</td>\n",
              "      <td>60.0</td>\n",
              "      <td>0.9980</td>\n",
              "      <td>3.16</td>\n",
              "      <td>0.58</td>\n",
              "      <td>9.8</td>\n",
              "      <td>3</td>\n",
              "    </tr>\n",
              "  </tbody>\n",
              "</table>\n",
              "</div>"
            ],
            "text/plain": [
              "   fixed acidity  volatile acidity  citric acid  ...  sulphates  alcohol  quality\n",
              "0            7.4              0.70         0.00  ...       0.56      9.4        2\n",
              "1            7.8              0.88         0.00  ...       0.68      9.8        2\n",
              "2            7.8              0.76         0.04  ...       0.65      9.8        2\n",
              "3           11.2              0.28         0.56  ...       0.58      9.8        3\n",
              "\n",
              "[4 rows x 12 columns]"
            ]
          },
          "metadata": {},
          "execution_count": 9
        }
      ]
    },
    {
      "cell_type": "code",
      "metadata": {
        "id": "hDm20Ks75aNg"
      },
      "source": [
        "#@ SPLITTING THE DATASET: \n",
        "df = df.sample(frac=1).reset_index(drop=True)              # Shuffling the Dataset. \n",
        "df_train = df.head(1000)                                   # Initializing Training DataFrame. \n",
        "df_test = df.tail(599)                                     # Initializing Test DataFrame. "
      ],
      "execution_count": 10,
      "outputs": []
    },
    {
      "cell_type": "markdown",
      "metadata": {
        "id": "S4eQKsA8VmdY"
      },
      "source": [
        "**DECISION TREE MODEL:**"
      ]
    },
    {
      "cell_type": "code",
      "metadata": {
        "colab": {
          "base_uri": "https://localhost:8080/"
        },
        "id": "95ta0gfAVmEy",
        "outputId": "7ab5f788-0d01-45e8-f8bf-4a15b74dbd20"
      },
      "source": [
        "#@ INITIALIZING DECISION TREE MODEL: \n",
        "clf = tree.DecisionTreeClassifier(max_depth=3)                          # Initializing Decision Tree Classifier. \n",
        "cols = [\"fixed acidity\", \"volatile acidity\", \"citric acid\", \n",
        "        \"residual sugar\", \"chlorides\", \"free sulfur dioxide\", \n",
        "        \"density\",\"pH\",\"sulphates\",\"alcohol\",\"total sulfur dioxide\"]    # Initializing Features. \n",
        "clf.fit(df_train[cols], df_train.quality)                               # Training the Classifier. "
      ],
      "execution_count": 11,
      "outputs": [
        {
          "output_type": "execute_result",
          "data": {
            "text/plain": [
              "DecisionTreeClassifier(ccp_alpha=0.0, class_weight=None, criterion='gini',\n",
              "                       max_depth=3, max_features=None, max_leaf_nodes=None,\n",
              "                       min_impurity_decrease=0.0, min_impurity_split=None,\n",
              "                       min_samples_leaf=1, min_samples_split=2,\n",
              "                       min_weight_fraction_leaf=0.0, presort='deprecated',\n",
              "                       random_state=None, splitter='best')"
            ]
          },
          "metadata": {},
          "execution_count": 11
        }
      ]
    },
    {
      "cell_type": "code",
      "metadata": {
        "colab": {
          "base_uri": "https://localhost:8080/"
        },
        "id": "sIGMZYBUXaMl",
        "outputId": "7c84bbd4-1e54-4ccd-e49e-6516b6d4dd22"
      },
      "source": [
        "#@ MODEL EVALUATION: ACCURACY: \n",
        "train_predictions = clf.predict(df_train[cols])                         # Predictions on Training Set. \n",
        "test_predictions = clf.predict(df_test[cols])                           # Predictions on Test Set. \n",
        "train_accuracy = metrics.accuracy_score(df_train.quality, \n",
        "                                        train_predictions)              # Getting Training Accuracy. \n",
        "test_accuracy = metrics.accuracy_score(df_test.quality, \n",
        "                                       test_predictions)                # Getting Test Accuracy. \n",
        "train_accuracy, test_accuracy                                           # Inspection. "
      ],
      "execution_count": 12,
      "outputs": [
        {
          "output_type": "execute_result",
          "data": {
            "text/plain": [
              "(0.614, 0.5592654424040067)"
            ]
          },
          "metadata": {},
          "execution_count": 12
        }
      ]
    },
    {
      "cell_type": "code",
      "metadata": {
        "colab": {
          "base_uri": "https://localhost:8080/",
          "height": 353
        },
        "id": "rQN2MjEXZEQC",
        "outputId": "16fa07ef-9915-489f-8a61-a06de58effcd"
      },
      "source": [
        "#@ VISUALIZING ACCURACIES OF MODEL: \n",
        "matplotlib.rc(\"xtick\", labelsize=20)                          # Size of Label Text. \n",
        "matplotlib.rc(\"ytick\", labelsize=20)                          # Size of Label Text. \n",
        "train_accuracies = [0.5]                                      # Initializing List. \n",
        "test_accuracies = [0.5]                                       # Initializing List. \n",
        "for depth in range(1, 25):\n",
        "    clf = tree.DecisionTreeClassifier(max_depth=depth)                      # Initializing Decision Tree Classifier. \n",
        "    cols = [\"fixed acidity\", \"volatile acidity\", \"citric acid\", \n",
        "            \"residual sugar\", \"chlorides\", \"free sulfur dioxide\", \n",
        "            \"density\",\"pH\",\"sulphates\",\"alcohol\",\"total sulfur dioxide\"]    # Initializing Features. \n",
        "    clf.fit(df_train[cols], df_train.quality)                               # Training the Classifier. \n",
        "    #@ MODEL EVALUATION: ACCURACY: \n",
        "    train_predictions = clf.predict(df_train[cols])                         # Predictions on Training Set. \n",
        "    test_predictions = clf.predict(df_test[cols])                           # Predictions on Test Set. \n",
        "    train_accuracy = metrics.accuracy_score(df_train.quality, \n",
        "                                            train_predictions)              # Getting Training Accuracy. \n",
        "    test_accuracy = metrics.accuracy_score(df_test.quality, \n",
        "                                        test_predictions)                   # Getting Test Accuracy. \n",
        "    #@ GETTING ACCURACIES: \n",
        "    train_accuracies.append(train_accuracy)                                 # Appending Training Accuracy. \n",
        "    test_accuracies.append(test_accuracy)                                   # Appending Test Accuracy. \n",
        "\n",
        "#@ GENERATING PLOTS: \n",
        "plt.figure(figsize=(10, 5))\n",
        "sns.set_style(\"whitegrid\")\n",
        "plt.plot(train_accuracies, label=\"train accuracy\")\n",
        "plt.plot(test_accuracies, label=\"test accuracy\")\n",
        "plt.legend(loc=\"upper\", prop={\"size\": 15})\n",
        "plt.xticks(range(0, 26, 5))\n",
        "plt.xlabel(\"max_depth\", size=20)\n",
        "plt.ylabel(\"accuracy\", size=20)\n",
        "plt.show()"
      ],
      "execution_count": 13,
      "outputs": [
        {
          "output_type": "display_data",
          "data": {
            "image/png": "[encoded data removed]",
            "text/plain": [
              "<Figure size 720x360 with 1 Axes>"
            ]
          },
          "metadata": {
            "needs_background": "light"
          }
        }
      ]
    },
    {
      "cell_type": "code",
      "metadata": {
        "id": "AK310ggyc2h6",
        "colab": {
          "base_uri": "https://localhost:8080/",
          "height": 314
        },
        "outputId": "8a83c235-5260-4145-c958-4c337c87844c"
      },
      "source": [
        "#@ INSPECTING DISTRIBUTION OF LABELS: \n",
        "b = sns.countplot(x=\"quality\", data=df)             # Initializing Count Plot. \n",
        "b.set_xlabel(\"quality\", fontsize=20)                # Initializing Labels. \n",
        "b.set_ylabel(\"count\", fontsize=20)                  # Initializing Labels. "
      ],
      "execution_count": 14,
      "outputs": [
        {
          "output_type": "execute_result",
          "data": {
            "text/plain": [
              "Text(0, 0.5, 'count')"
            ]
          },
          "metadata": {},
          "execution_count": 14
        },
        {
          "output_type": "display_data",
          "data": {
            "image/png": "[encoded data removed]",
            "text/plain": [
              "<Figure size 432x288 with 1 Axes>"
            ]
          },
          "metadata": {}
        }
      ]
    },
    {
      "cell_type": "markdown",
      "metadata": {
        "id": "vUCRDH_Cq0Bq"
      },
      "source": [
        "**REGRESSION PROBLEM:**"
      ]
    },
    {
      "cell_type": "code",
      "metadata": {
        "id": "mcge_5qto69c"
      },
      "source": [
        "#@ INITIALIZING STRATIFIED KFOLD FOR REGRESSION: \n",
        "def create_folds(data):                                     # Defining the Function. \n",
        "    data[\"kfold\"] = -1                                      # Initializing a Column. \n",
        "    data = data.sample(frac=1).reset_index(drop=True)       # Randomizing Rows of Data. \n",
        "    num_bins = int(np.floor(1 + np.log2(len(data))))        # Initializing Bins using Sturge's Rule. \n",
        "    data.loc[:, \"bins\"] = pd.cut(\n",
        "        data[\"target\"], bins=num_bins, labels=False)        # Initializing Bin Targets. \n",
        "    kf = model_selection.StratifiedKFold(n_splits=5)        # Initializing KFold Class. \n",
        "    for f,(t_,v_) in enumerate(\n",
        "        kf.split(X=data,y=data.bins.values)):\n",
        "        data.loc[v_,\"kfold\"] = f\n",
        "    data = data.drop(\"bins\", axis=1)                        # Dropping Bins Column. \n",
        "    return data\n",
        "\n",
        "if __name__ == \"__main__\":\n",
        "    X, y = datasets.make_regression(\n",
        "        n_samples=15000,n_features=100,n_targets=1)         # Initializing Sample Dataset. \n",
        "    df = pd.DataFrame(\n",
        "        X,  columns=[f\"f_{i}\" for i in range(X.shape[1])])  # Initializing a DataFrame. \n",
        "    df.loc[:, \"target\"] = y                                 # Initializing Target. \n",
        "    df = create_folds(df)                                   # Creating Folds. "
      ],
      "execution_count": 15,
      "outputs": []
    },
    {
      "cell_type": "code",
      "metadata": {
        "colab": {
          "base_uri": "https://localhost:8080/",
          "height": 191
        },
        "id": "2JwSTXNGvxm-",
        "outputId": "ff5851b1-f68b-46ed-ca20-93f9fc0160b0"
      },
      "source": [
        "#@ INSPECTING DATAFRAME: \n",
        "df.head(3)"
      ],
      "execution_count": 16,
      "outputs": [
        {
          "output_type": "execute_result",
          "data": {
            "text/html": [
              "<div>\n",
              "<style scoped>\n",
              "    .dataframe tbody tr th:only-of-type {\n",
              "        vertical-align: middle;\n",
              "    }\n",
              "\n",
              "    .dataframe tbody tr th {\n",
              "        vertical-align: top;\n",
              "    }\n",
              "\n",
              "    .dataframe thead th {\n",
              "        text-align: right;\n",
              "    }\n",
              "</style>\n",
              "<table border=\"1\" class=\"dataframe\">\n",
              "  <thead>\n",
              "    <tr style=\"text-align: right;\">\n",
              "      <th></th>\n",
              "      <th>f_0</th>\n",
              "      <th>f_1</th>\n",
              "      <th>f_2</th>\n",
              "      <th>f_3</th>\n",
              "      <th>f_4</th>\n",
              "      <th>f_5</th>\n",
              "      <th>f_6</th>\n",
              "      <th>f_7</th>\n",
              "      <th>f_8</th>\n",
              "      <th>f_9</th>\n",
              "      <th>f_10</th>\n",
              "      <th>f_11</th>\n",
              "      <th>f_12</th>\n",
              "      <th>f_13</th>\n",
              "      <th>f_14</th>\n",
              "      <th>f_15</th>\n",
              "      <th>f_16</th>\n",
              "      <th>f_17</th>\n",
              "      <th>f_18</th>\n",
              "      <th>f_19</th>\n",
              "      <th>f_20</th>\n",
              "      <th>f_21</th>\n",
              "      <th>f_22</th>\n",
              "      <th>f_23</th>\n",
              "      <th>f_24</th>\n",
              "      <th>f_25</th>\n",
              "      <th>f_26</th>\n",
              "      <th>f_27</th>\n",
              "      <th>f_28</th>\n",
              "      <th>f_29</th>\n",
              "      <th>f_30</th>\n",
              "      <th>f_31</th>\n",
              "      <th>f_32</th>\n",
              "      <th>f_33</th>\n",
              "      <th>f_34</th>\n",
              "      <th>f_35</th>\n",
              "      <th>f_36</th>\n",
              "      <th>f_37</th>\n",
              "      <th>f_38</th>\n",
              "      <th>f_39</th>\n",
              "      <th>...</th>\n",
              "      <th>f_62</th>\n",
              "      <th>f_63</th>\n",
              "      <th>f_64</th>\n",
              "      <th>f_65</th>\n",
              "      <th>f_66</th>\n",
              "      <th>f_67</th>\n",
              "      <th>f_68</th>\n",
              "      <th>f_69</th>\n",
              "      <th>f_70</th>\n",
              "      <th>f_71</th>\n",
              "      <th>f_72</th>\n",
              "      <th>f_73</th>\n",
              "      <th>f_74</th>\n",
              "      <th>f_75</th>\n",
              "      <th>f_76</th>\n",
              "      <th>f_77</th>\n",
              "      <th>f_78</th>\n",
              "      <th>f_79</th>\n",
              "      <th>f_80</th>\n",
              "      <th>f_81</th>\n",
              "      <th>f_82</th>\n",
              "      <th>f_83</th>\n",
              "      <th>f_84</th>\n",
              "      <th>f_85</th>\n",
              "      <th>f_86</th>\n",
              "      <th>f_87</th>\n",
              "      <th>f_88</th>\n",
              "      <th>f_89</th>\n",
              "      <th>f_90</th>\n",
              "      <th>f_91</th>\n",
              "      <th>f_92</th>\n",
              "      <th>f_93</th>\n",
              "      <th>f_94</th>\n",
              "      <th>f_95</th>\n",
              "      <th>f_96</th>\n",
              "      <th>f_97</th>\n",
              "      <th>f_98</th>\n",
              "      <th>f_99</th>\n",
              "      <th>target</th>\n",
              "      <th>kfold</th>\n",
              "    </tr>\n",
              "  </thead>\n",
              "  <tbody>\n",
              "    <tr>\n",
              "      <th>0</th>\n",
              "      <td>0.201001</td>\n",
              "      <td>0.418289</td>\n",
              "      <td>-0.026761</td>\n",
              "      <td>0.925894</td>\n",
              "      <td>2.251407</td>\n",
              "      <td>-0.819923</td>\n",
              "      <td>-0.164388</td>\n",
              "      <td>-0.899844</td>\n",
              "      <td>-0.973834</td>\n",
              "      <td>0.511531</td>\n",
              "      <td>0.357857</td>\n",
              "      <td>0.673886</td>\n",
              "      <td>-0.147655</td>\n",
              "      <td>1.033060</td>\n",
              "      <td>1.752823</td>\n",
              "      <td>-0.058843</td>\n",
              "      <td>-0.635385</td>\n",
              "      <td>-0.788459</td>\n",
              "      <td>0.771352</td>\n",
              "      <td>1.482521</td>\n",
              "      <td>2.173291</td>\n",
              "      <td>-0.558040</td>\n",
              "      <td>0.362799</td>\n",
              "      <td>-2.287828</td>\n",
              "      <td>-1.550338</td>\n",
              "      <td>1.468843</td>\n",
              "      <td>0.838887</td>\n",
              "      <td>1.331466</td>\n",
              "      <td>0.365134</td>\n",
              "      <td>-0.391278</td>\n",
              "      <td>0.017952</td>\n",
              "      <td>-0.623236</td>\n",
              "      <td>1.010729</td>\n",
              "      <td>-1.245374</td>\n",
              "      <td>-1.525477</td>\n",
              "      <td>0.298079</td>\n",
              "      <td>-0.622923</td>\n",
              "      <td>0.406466</td>\n",
              "      <td>2.760347</td>\n",
              "      <td>-0.331000</td>\n",
              "      <td>...</td>\n",
              "      <td>-1.466087</td>\n",
              "      <td>-1.650017</td>\n",
              "      <td>0.282534</td>\n",
              "      <td>-0.556587</td>\n",
              "      <td>-2.075299</td>\n",
              "      <td>0.567849</td>\n",
              "      <td>1.044328</td>\n",
              "      <td>-1.228662</td>\n",
              "      <td>1.222119</td>\n",
              "      <td>0.506067</td>\n",
              "      <td>0.841064</td>\n",
              "      <td>-1.104867</td>\n",
              "      <td>0.349933</td>\n",
              "      <td>-0.950060</td>\n",
              "      <td>-1.232001</td>\n",
              "      <td>-0.918516</td>\n",
              "      <td>-0.945477</td>\n",
              "      <td>0.910409</td>\n",
              "      <td>1.569155</td>\n",
              "      <td>-0.807046</td>\n",
              "      <td>0.109695</td>\n",
              "      <td>-0.385496</td>\n",
              "      <td>-1.410106</td>\n",
              "      <td>-0.496388</td>\n",
              "      <td>-0.997403</td>\n",
              "      <td>-0.696967</td>\n",
              "      <td>0.277967</td>\n",
              "      <td>0.294635</td>\n",
              "      <td>-0.292168</td>\n",
              "      <td>2.059659</td>\n",
              "      <td>-0.400459</td>\n",
              "      <td>0.228349</td>\n",
              "      <td>-2.924709</td>\n",
              "      <td>-1.526215</td>\n",
              "      <td>0.926767</td>\n",
              "      <td>0.715343</td>\n",
              "      <td>-1.336182</td>\n",
              "      <td>0.091814</td>\n",
              "      <td>107.914234</td>\n",
              "      <td>0</td>\n",
              "    </tr>\n",
              "    <tr>\n",
              "      <th>1</th>\n",
              "      <td>-0.455401</td>\n",
              "      <td>-0.407272</td>\n",
              "      <td>-0.762828</td>\n",
              "      <td>0.057346</td>\n",
              "      <td>2.532710</td>\n",
              "      <td>0.757268</td>\n",
              "      <td>-1.444927</td>\n",
              "      <td>0.348801</td>\n",
              "      <td>-1.481042</td>\n",
              "      <td>0.559984</td>\n",
              "      <td>1.312640</td>\n",
              "      <td>1.364674</td>\n",
              "      <td>0.422153</td>\n",
              "      <td>2.301244</td>\n",
              "      <td>-2.064660</td>\n",
              "      <td>-0.142862</td>\n",
              "      <td>-0.937912</td>\n",
              "      <td>-0.069117</td>\n",
              "      <td>-1.187084</td>\n",
              "      <td>1.984074</td>\n",
              "      <td>-0.206284</td>\n",
              "      <td>-0.388040</td>\n",
              "      <td>-2.601627</td>\n",
              "      <td>-0.494905</td>\n",
              "      <td>0.615318</td>\n",
              "      <td>-1.963172</td>\n",
              "      <td>-1.797115</td>\n",
              "      <td>-1.686235</td>\n",
              "      <td>-0.064680</td>\n",
              "      <td>-1.782310</td>\n",
              "      <td>-1.298064</td>\n",
              "      <td>0.900032</td>\n",
              "      <td>0.360232</td>\n",
              "      <td>-0.585681</td>\n",
              "      <td>-1.042393</td>\n",
              "      <td>0.298011</td>\n",
              "      <td>1.000598</td>\n",
              "      <td>-0.054765</td>\n",
              "      <td>0.299742</td>\n",
              "      <td>0.748338</td>\n",
              "      <td>...</td>\n",
              "      <td>0.218696</td>\n",
              "      <td>0.694919</td>\n",
              "      <td>-2.864199</td>\n",
              "      <td>-0.660415</td>\n",
              "      <td>-0.199713</td>\n",
              "      <td>0.902555</td>\n",
              "      <td>0.299459</td>\n",
              "      <td>-0.402287</td>\n",
              "      <td>0.143394</td>\n",
              "      <td>1.357963</td>\n",
              "      <td>0.470282</td>\n",
              "      <td>0.300444</td>\n",
              "      <td>-0.417518</td>\n",
              "      <td>-1.187920</td>\n",
              "      <td>0.150619</td>\n",
              "      <td>0.362747</td>\n",
              "      <td>-0.545504</td>\n",
              "      <td>1.062849</td>\n",
              "      <td>-0.337232</td>\n",
              "      <td>-0.099398</td>\n",
              "      <td>0.339128</td>\n",
              "      <td>-0.631238</td>\n",
              "      <td>-0.662483</td>\n",
              "      <td>-1.590858</td>\n",
              "      <td>1.082653</td>\n",
              "      <td>0.455909</td>\n",
              "      <td>-1.220168</td>\n",
              "      <td>0.240886</td>\n",
              "      <td>-1.014586</td>\n",
              "      <td>1.326746</td>\n",
              "      <td>1.391380</td>\n",
              "      <td>1.614842</td>\n",
              "      <td>-0.236255</td>\n",
              "      <td>0.392015</td>\n",
              "      <td>-0.830136</td>\n",
              "      <td>0.544488</td>\n",
              "      <td>-0.321683</td>\n",
              "      <td>-0.036005</td>\n",
              "      <td>11.856818</td>\n",
              "      <td>0</td>\n",
              "    </tr>\n",
              "    <tr>\n",
              "      <th>2</th>\n",
              "      <td>0.190808</td>\n",
              "      <td>0.061946</td>\n",
              "      <td>-0.110142</td>\n",
              "      <td>0.994868</td>\n",
              "      <td>-0.336256</td>\n",
              "      <td>0.885157</td>\n",
              "      <td>0.778029</td>\n",
              "      <td>-0.586551</td>\n",
              "      <td>0.044211</td>\n",
              "      <td>-1.523718</td>\n",
              "      <td>-1.860826</td>\n",
              "      <td>-0.137451</td>\n",
              "      <td>0.144677</td>\n",
              "      <td>0.211560</td>\n",
              "      <td>1.990954</td>\n",
              "      <td>-0.214003</td>\n",
              "      <td>0.622981</td>\n",
              "      <td>0.609006</td>\n",
              "      <td>0.213505</td>\n",
              "      <td>-0.746218</td>\n",
              "      <td>0.365814</td>\n",
              "      <td>-0.164493</td>\n",
              "      <td>-0.187701</td>\n",
              "      <td>-0.158669</td>\n",
              "      <td>-0.117088</td>\n",
              "      <td>-1.223309</td>\n",
              "      <td>-0.299014</td>\n",
              "      <td>-0.868473</td>\n",
              "      <td>0.308120</td>\n",
              "      <td>-0.116327</td>\n",
              "      <td>-0.888514</td>\n",
              "      <td>-1.101335</td>\n",
              "      <td>1.092632</td>\n",
              "      <td>0.273271</td>\n",
              "      <td>-0.942421</td>\n",
              "      <td>0.909629</td>\n",
              "      <td>-1.665139</td>\n",
              "      <td>-1.557368</td>\n",
              "      <td>0.401155</td>\n",
              "      <td>-1.437436</td>\n",
              "      <td>...</td>\n",
              "      <td>-1.370752</td>\n",
              "      <td>-0.612452</td>\n",
              "      <td>0.428323</td>\n",
              "      <td>-0.295326</td>\n",
              "      <td>-0.897322</td>\n",
              "      <td>-2.026297</td>\n",
              "      <td>1.436923</td>\n",
              "      <td>-0.886314</td>\n",
              "      <td>0.290462</td>\n",
              "      <td>-0.328465</td>\n",
              "      <td>1.194006</td>\n",
              "      <td>-0.272285</td>\n",
              "      <td>-0.115773</td>\n",
              "      <td>-0.507399</td>\n",
              "      <td>0.381474</td>\n",
              "      <td>-0.238037</td>\n",
              "      <td>-0.138634</td>\n",
              "      <td>-1.059873</td>\n",
              "      <td>0.423730</td>\n",
              "      <td>-0.311985</td>\n",
              "      <td>0.498632</td>\n",
              "      <td>1.081965</td>\n",
              "      <td>0.123422</td>\n",
              "      <td>-0.033009</td>\n",
              "      <td>0.568425</td>\n",
              "      <td>1.091318</td>\n",
              "      <td>-2.785726</td>\n",
              "      <td>2.240112</td>\n",
              "      <td>-1.319153</td>\n",
              "      <td>0.629090</td>\n",
              "      <td>1.255021</td>\n",
              "      <td>-1.620898</td>\n",
              "      <td>-0.040224</td>\n",
              "      <td>-0.991702</td>\n",
              "      <td>0.604107</td>\n",
              "      <td>-0.904517</td>\n",
              "      <td>1.501941</td>\n",
              "      <td>1.025204</td>\n",
              "      <td>-442.408518</td>\n",
              "      <td>0</td>\n",
              "    </tr>\n",
              "  </tbody>\n",
              "</table>\n",
              "<p>3 rows × 102 columns</p>\n",
              "</div>"
            ],
            "text/plain": [
              "        f_0       f_1       f_2  ...      f_99      target  kfold\n",
              "0  0.201001  0.418289 -0.026761  ...  0.091814  107.914234      0\n",
              "1 -0.455401 -0.407272 -0.762828  ... -0.036005   11.856818      0\n",
              "2  0.190808  0.061946 -0.110142  ...  1.025204 -442.408518      0\n",
              "\n",
              "[3 rows x 102 columns]"
            ]
          },
          "metadata": {},
          "execution_count": 16
        }
      ]
    },
    {
      "cell_type": "code",
      "metadata": {
        "id": "do95s2w2yL6r"
      },
      "source": [
        "#@ FUNCTION FOR CALCULATING ACCURACY: \n",
        "def accuracy(y_true, y_pred):                             # Defining Function. \n",
        "    correct_counter = 0                                   # Initializing Counter. \n",
        "    for yt, yp in zip(y_true, y_pred):\n",
        "        if yt == yp:\n",
        "            correct_counter += 1\n",
        "    return correct_counter / len(y_true)                  # Getting Accuracy. "
      ],
      "execution_count": 17,
      "outputs": []
    }
  ]
}
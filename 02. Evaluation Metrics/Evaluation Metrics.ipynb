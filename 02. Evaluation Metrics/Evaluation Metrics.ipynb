{
  "nbformat": 4,
  "nbformat_minor": 0,
  "metadata": {
    "colab": {
      "name": "Evaluation Metrics.ipynb",
      "provenance": []
    },
    "kernelspec": {
      "name": "python3",
      "display_name": "Python 3"
    },
    "language_info": {
      "name": "python"
    }
  },
  "cells": [
    {
      "cell_type": "markdown",
      "metadata": {
        "id": "13JmaEsH0SwL"
      },
      "source": [
        "**INITIALIZATION:**\n",
        "- I use these three lines of code on top of my each notebooks because it will help to prevent any problems while reloading the same project. And the third line of code helps to make visualization within the notebook."
      ]
    },
    {
      "cell_type": "code",
      "metadata": {
        "id": "8G3fcytGy1Cp"
      },
      "source": [
        "#@ INITIALIZATION: \n",
        "%reload_ext autoreload\n",
        "%autoreload 2\n",
        "%matplotlib inline"
      ],
      "execution_count": 1,
      "outputs": []
    },
    {
      "cell_type": "markdown",
      "metadata": {
        "id": "EW1J3VBj0g3N"
      },
      "source": [
        "**LIBRARIES AND DEPENDENCIES:**\n",
        "- I have downloaded all the libraries and dependencies required for the project in one particular cell."
      ]
    },
    {
      "cell_type": "code",
      "metadata": {
        "id": "QM4N-3MM0W4_"
      },
      "source": [
        "#@ GETTING LIBRARIES AND DEPENDENCIES: \n",
        "import numpy as np\n",
        "import pandas as pd\n",
        "import seaborn as sns\n",
        "import matplotlib\n",
        "import matplotlib.pyplot as plt\n",
        "\n",
        "from sklearn import datasets\n",
        "from sklearn import manifold\n",
        "from sklearn import metrics\n",
        "from sklearn import model_selection\n",
        "%matplotlib inline\n",
        "\n",
        "#@ IGNORING WARNINGS: \n",
        "import warnings\n",
        "warnings.filterwarnings(\"ignore\")"
      ],
      "execution_count": 2,
      "outputs": []
    },
    {
      "cell_type": "markdown",
      "metadata": {
        "id": "cz5ctDQu1M4B"
      },
      "source": [
        "**ACCURACY:**\n",
        "- It is one of the most straightforward metrics used in machine learning. It defines how accurate the model is. "
      ]
    },
    {
      "cell_type": "code",
      "metadata": {
        "colab": {
          "base_uri": "https://localhost:8080/"
        },
        "id": "1inQc-cO0s0e",
        "outputId": "00ed3fbe-02b3-433b-f7fd-ed76279c4a10"
      },
      "source": [
        "#@ INITIALIZING ACCURACY FUNCTION: \n",
        "def accuracy(y_true, y_pred):                   # Defining Accuracy Function. \n",
        "    correct_counter = 0                         # Initializing Counter. \n",
        "    for yt, yp in zip(y_true, y_pred):          # Iterating over Elements. \n",
        "        if yt == yp:\n",
        "            correct_counter += 1\n",
        "    return correct_counter / len(y_true)        # Getting Accuracy. \n",
        "\n",
        "#@ IMPLEMENTATION OF ACCURACY:\n",
        "l1 = [0, 1, 1, 1, 0, 0, 0, 1]                   # Initializing a List. \n",
        "l2 = [0, 1, 0, 1, 0, 1, 0, 0]                   # Initializing a List. \n",
        "metrics.accuracy_score(l1, l2)                  # Inspecting Accuracy. "
      ],
      "execution_count": 3,
      "outputs": [
        {
          "output_type": "execute_result",
          "data": {
            "text/plain": [
              "0.625"
            ]
          },
          "metadata": {},
          "execution_count": 3
        }
      ]
    },
    {
      "cell_type": "code",
      "metadata": {
        "colab": {
          "base_uri": "https://localhost:8080/"
        },
        "id": "AbLj6itt3m7v",
        "outputId": "02338034-b975-49f1-bf14-3418e42b0556"
      },
      "source": [
        "#@ INITIALIIZING TRUE POSIITVE: \n",
        "def true_positive(y_true, y_pred):                 # Defining TP Function. \n",
        "    tp = 0                                         # Initialization. \n",
        "    for yt, yp in zip(y_true, y_pred):\n",
        "        if yt==1 and yp==1:\n",
        "            tp += 1\n",
        "    return tp                                      # Getting TP.\n",
        "\n",
        "#@ INITIALIZING TRUE NEGATIVE: \n",
        "def true_negative(y_true, y_pred):                 # Defining TN Function. \n",
        "    tn = 0                                         # Initialization. \n",
        "    for yt, yp in zip(y_true, y_pred):\n",
        "        if yt==0 and yp==0:\n",
        "            tn += 1 \n",
        "    return tn                                      # Getting TN. \n",
        "\n",
        "#@ INITIALIZING FALSE POSITIVE: \n",
        "def false_positive(y_true, y_pred):                # Defining FP Function. \n",
        "    fp = 0                                         # Initialization. \n",
        "    for yt, yp in zip(y_true, y_pred):\n",
        "        if yt==0 and yp==1:\n",
        "            fp += 1\n",
        "    return fp                                      # Getting FP.\n",
        "\n",
        "#@ INITIALIZING FALSE NEGATIVE: \n",
        "def false_negative(y_true, y_pred):                # Defining FN Function. \n",
        "    fn = 0                                         # Initialization. \n",
        "    for yt, yp in zip(y_true, y_pred):\n",
        "        if yt==1 and yp==0:\n",
        "            fn += 1\n",
        "    return fn                                      # Getting FN. \n",
        "\n",
        "#@ IMPLEMENTATION OF FUNCTION: \n",
        "print(true_positive(l1,l2),true_negative(l1,l2))   # Calculating TP and TN. \n",
        "print(false_positive(l1,l2),false_negative(l1,l2)) # Calculating FP and FN. "
      ],
      "execution_count": 5,
      "outputs": [
        {
          "output_type": "stream",
          "name": "stdout",
          "text": [
            "2 3\n",
            "1 2\n"
          ]
        }
      ]
    },
    {
      "cell_type": "markdown",
      "metadata": {
        "id": "L0_6uJnM-TEU"
      },
      "source": [
        "**Note:**\n",
        "- **Accuracy Score** = **(TP + TN) / (TP + TN + FP + FN)**"
      ]
    },
    {
      "cell_type": "code",
      "metadata": {
        "colab": {
          "base_uri": "https://localhost:8080/"
        },
        "id": "GJBu283N-E87",
        "outputId": "1d4ac649-160c-422e-9cac-b5920dfdcace"
      },
      "source": [
        "#@ INITIALIZING ACCURACY FUNCTION: \n",
        "def accuracy_v2(y_true, y_pred):                   # Defining Accuracy Function. \n",
        "    tp = true_positive(y_true, y_pred)             # Initializing TP. \n",
        "    fp = false_positive(y_true, y_pred)            # Initializing FP. \n",
        "    fn = false_negative(y_true, y_pred)            # Initializing FN. \n",
        "    tn = true_negative(y_true, y_pred)             # Initializing TN. \n",
        "    accuracy_score = (tp + tn) / (tp+tn+fp+fn)     # Initializing Accuracy Score. \n",
        "    return accuracy_score\n",
        "\n",
        "#@ COMPARING ACCURACY FUNCTION: \n",
        "print(accuracy(l1, l2))                            # Getting Accuracy. \n",
        "print(accuracy_v2(l1, l2))                         # Getting Accuracy. \n",
        "print(metrics.accuracy_score(l1, l2))              # Getting Accuracy. "
      ],
      "execution_count": 6,
      "outputs": [
        {
          "output_type": "stream",
          "name": "stdout",
          "text": [
            "0.625\n",
            "0.625\n",
            "0.625\n"
          ]
        }
      ]
    },
    {
      "cell_type": "code",
      "metadata": {
        "id": "DJs2lqxABSmK"
      },
      "source": [
        ""
      ],
      "execution_count": null,
      "outputs": []
    }
  ]
}
{
  "nbformat": 4,
  "nbformat_minor": 0,
  "metadata": {
    "colab": {
      "name": "Evaluation Metrics.ipynb",
      "provenance": [],
      "collapsed_sections": []
    },
    "kernelspec": {
      "name": "python3",
      "display_name": "Python 3"
    },
    "language_info": {
      "name": "python"
    }
  },
  "cells": [
    {
      "cell_type": "markdown",
      "metadata": {
        "id": "13JmaEsH0SwL"
      },
      "source": [
        "**INITIALIZATION:**\n",
        "- I use these three lines of code on top of my each notebooks because it will help to prevent any problems while reloading the same project. And the third line of code helps to make visualization within the notebook."
      ]
    },
    {
      "cell_type": "code",
      "metadata": {
        "id": "8G3fcytGy1Cp"
      },
      "source": [
        "#@ INITIALIZATION: \n",
        "%reload_ext autoreload\n",
        "%autoreload 2\n",
        "%matplotlib inline"
      ],
      "execution_count": 1,
      "outputs": []
    },
    {
      "cell_type": "markdown",
      "metadata": {
        "id": "EW1J3VBj0g3N"
      },
      "source": [
        "**LIBRARIES AND DEPENDENCIES:**\n",
        "- I have downloaded all the libraries and dependencies required for the project in one particular cell."
      ]
    },
    {
      "cell_type": "code",
      "metadata": {
        "id": "QM4N-3MM0W4_"
      },
      "source": [
        "#@ GETTING LIBRARIES AND DEPENDENCIES: \n",
        "import numpy as np\n",
        "import pandas as pd\n",
        "import seaborn as sns\n",
        "import matplotlib\n",
        "import matplotlib.pyplot as plt\n",
        "\n",
        "from collections import Counter\n",
        "from sklearn import datasets\n",
        "from sklearn import manifold\n",
        "from sklearn import metrics\n",
        "from sklearn import model_selection\n",
        "%matplotlib inline\n",
        "\n",
        "#@ IGNORING WARNINGS: \n",
        "import warnings\n",
        "warnings.filterwarnings(\"ignore\")"
      ],
      "execution_count": 2,
      "outputs": []
    },
    {
      "cell_type": "markdown",
      "metadata": {
        "id": "cz5ctDQu1M4B"
      },
      "source": [
        "**ACCURACY:**\n",
        "- It is one of the most straightforward metrics used in machine learning. It defines how accurate the model is. "
      ]
    },
    {
      "cell_type": "code",
      "metadata": {
        "colab": {
          "base_uri": "https://localhost:8080/"
        },
        "id": "1inQc-cO0s0e",
        "outputId": "bc667f4c-2be4-4cd2-9bc7-fdecb4d100e6"
      },
      "source": [
        "#@ INITIALIZING ACCURACY FUNCTION: \n",
        "def accuracy(y_true, y_pred):                   # Defining Accuracy Function. \n",
        "    correct_counter = 0                         # Initializing Counter. \n",
        "    for yt, yp in zip(y_true, y_pred):          # Iterating over Elements. \n",
        "        if yt == yp:\n",
        "            correct_counter += 1\n",
        "    return correct_counter / len(y_true)        # Getting Accuracy. \n",
        "\n",
        "#@ IMPLEMENTATION OF ACCURACY:\n",
        "l1 = [0, 1, 1, 1, 0, 0, 0, 1]                   # Initializing a List. \n",
        "l2 = [0, 1, 0, 1, 0, 1, 0, 0]                   # Initializing a List. \n",
        "metrics.accuracy_score(l1, l2)                  # Inspecting Accuracy. "
      ],
      "execution_count": 3,
      "outputs": [
        {
          "output_type": "execute_result",
          "data": {
            "text/plain": [
              "0.625"
            ]
          },
          "metadata": {},
          "execution_count": 3
        }
      ]
    },
    {
      "cell_type": "code",
      "metadata": {
        "colab": {
          "base_uri": "https://localhost:8080/"
        },
        "id": "AbLj6itt3m7v",
        "outputId": "4befb78a-434e-40c5-e3d5-53f782d935b4"
      },
      "source": [
        "#@ INITIALIIZING TRUE POSIITVE: \n",
        "def true_positive(y_true, y_pred):                 # Defining TP Function. \n",
        "    tp = 0                                         # Initialization. \n",
        "    for yt, yp in zip(y_true, y_pred):\n",
        "        if yt==1 and yp==1:\n",
        "            tp += 1\n",
        "    return tp                                      # Getting TP.\n",
        "\n",
        "#@ INITIALIZING TRUE NEGATIVE: \n",
        "def true_negative(y_true, y_pred):                 # Defining TN Function. \n",
        "    tn = 0                                         # Initialization. \n",
        "    for yt, yp in zip(y_true, y_pred):\n",
        "        if yt==0 and yp==0:\n",
        "            tn += 1 \n",
        "    return tn                                      # Getting TN. \n",
        "\n",
        "#@ INITIALIZING FALSE POSITIVE: \n",
        "def false_positive(y_true, y_pred):                # Defining FP Function. \n",
        "    fp = 0                                         # Initialization. \n",
        "    for yt, yp in zip(y_true, y_pred):\n",
        "        if yt==0 and yp==1:\n",
        "            fp += 1\n",
        "    return fp                                      # Getting FP.\n",
        "\n",
        "#@ INITIALIZING FALSE NEGATIVE: \n",
        "def false_negative(y_true, y_pred):                # Defining FN Function. \n",
        "    fn = 0                                         # Initialization. \n",
        "    for yt, yp in zip(y_true, y_pred):\n",
        "        if yt==1 and yp==0:\n",
        "            fn += 1\n",
        "    return fn                                      # Getting FN. \n",
        "\n",
        "#@ IMPLEMENTATION OF FUNCTION: \n",
        "print(true_positive(l1,l2),true_negative(l1,l2))   # Calculating TP and TN. \n",
        "print(false_positive(l1,l2),false_negative(l1,l2)) # Calculating FP and FN. "
      ],
      "execution_count": 4,
      "outputs": [
        {
          "output_type": "stream",
          "name": "stdout",
          "text": [
            "2 3\n",
            "1 2\n"
          ]
        }
      ]
    },
    {
      "cell_type": "markdown",
      "metadata": {
        "id": "L0_6uJnM-TEU"
      },
      "source": [
        "**Note:**\n",
        "- **Accuracy Score** = **(TP + TN) / (TP + TN + FP + FN)**"
      ]
    },
    {
      "cell_type": "code",
      "metadata": {
        "colab": {
          "base_uri": "https://localhost:8080/"
        },
        "id": "GJBu283N-E87",
        "outputId": "dd020655-df1f-4cc8-eaab-c9862e87518c"
      },
      "source": [
        "#@ INITIALIZING ACCURACY FUNCTION: \n",
        "def accuracy_v2(y_true, y_pred):                   # Defining Accuracy Function. \n",
        "    tp = true_positive(y_true, y_pred)             # Initializing TP. \n",
        "    fp = false_positive(y_true, y_pred)            # Initializing FP. \n",
        "    fn = false_negative(y_true, y_pred)            # Initializing FN. \n",
        "    tn = true_negative(y_true, y_pred)             # Initializing TN. \n",
        "    accuracy_score = (tp + tn) / (tp+tn+fp+fn)     # Initializing Accuracy Score. \n",
        "    return accuracy_score\n",
        "\n",
        "#@ COMPARING ACCURACY FUNCTION: \n",
        "print(accuracy(l1, l2))                            # Getting Accuracy. \n",
        "print(accuracy_v2(l1, l2))                         # Getting Accuracy. \n",
        "print(metrics.accuracy_score(l1, l2))              # Getting Accuracy. "
      ],
      "execution_count": 5,
      "outputs": [
        {
          "output_type": "stream",
          "name": "stdout",
          "text": [
            "0.625\n",
            "0.625\n",
            "0.625\n"
          ]
        }
      ]
    },
    {
      "cell_type": "markdown",
      "metadata": {
        "id": "xwmJXgHlcKpy"
      },
      "source": [
        "**PRECISION AND RECALL:**\n",
        "- **Precision = TP / (TP + FP)**\n",
        "- **Recall = TP / (TP + FN)**"
      ]
    },
    {
      "cell_type": "code",
      "metadata": {
        "id": "U_co7yb62CFx",
        "colab": {
          "base_uri": "https://localhost:8080/"
        },
        "outputId": "5a6716e0-f1e2-48e1-b33b-33026153ef89"
      },
      "source": [
        "#@ INITIALIZING PRECISION FUNCTION: \n",
        "def precision(y_true, y_pred):                     # Defining Precision Function. \n",
        "    tp = true_positive(y_true, y_pred)             # Initializing TP. \n",
        "    fp = false_positive(y_true, y_pred)            # Initializing FP. \n",
        "    precision = tp / (tp + fp)                     # Getting Precision. \n",
        "    return precision\n",
        "\n",
        "#@ IMPLEMENTATION OF PRECISION FUNCTION: \n",
        "precision(l1, l2)"
      ],
      "execution_count": 6,
      "outputs": [
        {
          "output_type": "execute_result",
          "data": {
            "text/plain": [
              "0.6666666666666666"
            ]
          },
          "metadata": {},
          "execution_count": 6
        }
      ]
    },
    {
      "cell_type": "code",
      "metadata": {
        "colab": {
          "base_uri": "https://localhost:8080/"
        },
        "id": "8CJNm5urekna",
        "outputId": "45d78b7c-ca03-47bf-8cfd-e9d5b787a5d9"
      },
      "source": [
        "#@ INITIALIZING RECALL FUNCTION: \n",
        "def recall(y_true, y_pred):                        # Defining Precision Function. \n",
        "    tp = true_positive(y_true, y_pred)             # Initializing TP. \n",
        "    fn = false_negative(y_true, y_pred)            # Initializing FP. \n",
        "    recall = tp / (tp + fn)                        # Getting Precision. \n",
        "    return recall\n",
        "\n",
        "#@ IMPLEMENTATION OF PRECISION FUNCTION: \n",
        "recall(l1, l2)"
      ],
      "execution_count": 7,
      "outputs": [
        {
          "output_type": "execute_result",
          "data": {
            "text/plain": [
              "0.5"
            ]
          },
          "metadata": {},
          "execution_count": 7
        }
      ]
    },
    {
      "cell_type": "code",
      "metadata": {
        "id": "W-nN2u6CfW90"
      },
      "source": [
        "#@ INITIALIZING LISTS: EXAMPLE: \n",
        "y_true = [0, 0, 0, 1, 0, 0, 0, 0, 0, 0, \n",
        "          1, 0, 0, 0, 0, 0, 0, 0, 1, 0]                   # Initializing Target Examples. \n",
        "y_pred = [0.02638412, 0.11114267, 0.31620708,\n",
        "          0.0490937, 0.0191491, 0.17554844,\n",
        "          0.15952202, 0.03819563, 0.11639273,\n",
        "          0.079377, 0.08584789, 0.39095342,\n",
        "          0.27259048, 0.03447096, 0.04644807,\n",
        "          0.03543574, 0.18521942, 0.05934905,\n",
        "          0.61977213, 0.33056815]                         # Initializing Prediction Examples. \n",
        "thresholds = [0.0490937 , 0.05934905, 0.079377,\n",
        "              0.08584789, 0.11114267, 0.11639273,\n",
        "              0.15952202, 0.17554844, 0.18521942,\n",
        "              0.27259048, 0.31620708, 0.33056815,\n",
        "              0.39095342, 0.61977213]                     # Initializing Threshold Examples. "
      ],
      "execution_count": 8,
      "outputs": []
    },
    {
      "cell_type": "code",
      "metadata": {
        "colab": {
          "base_uri": "https://localhost:8080/",
          "height": 447
        },
        "id": "R5yPfVszh05b",
        "outputId": "5a38760b-2cee-4785-c678-70317bb35df5"
      },
      "source": [
        "#@ GETTING PRECISION AND RECALL VALUES: \n",
        "precisions = []                                    # Initializing a List. \n",
        "recalls = []                                       # Initializing a List. \n",
        "for i in thresholds:\n",
        "    temp_pred=[1 if x>=i else 0 for x in y_pred]   # Getting Predictions. \n",
        "    p = precision(y_true, temp_pred)               # Getting Precision. \n",
        "    r = recall(y_true, temp_pred)                  # Getting Recall. \n",
        "    precisions.append(p)\n",
        "    recalls.append(r)\n",
        "\n",
        "#@ PLOTTING PRECISION AND RECALL CURVE: \n",
        "plt.figure(figsize=(7, 7))\n",
        "plt.plot(recalls, precisions)\n",
        "plt.xlabel(\"Recall\", fontsize=15)\n",
        "plt.ylabel(\"Precision\", fontsize=15)\n",
        "plt.show();"
      ],
      "execution_count": 9,
      "outputs": [
        {
          "output_type": "display_data",
          "data": {
            "image/png": "[encoded data removed]",
            "text/plain": [
              "<Figure size 504x504 with 1 Axes>"
            ]
          },
          "metadata": {
            "needs_background": "light"
          }
        }
      ]
    },
    {
      "cell_type": "markdown",
      "metadata": {
        "id": "40EaAIDcoZGD"
      },
      "source": [
        "**F1 SCORE:**\n",
        "- **F1 Score** is a metric that combines both precision and recall. It is defined as a simple weighted average of precision and recall. \n",
        "- **F1 = 2PR / (P + R)**"
      ]
    },
    {
      "cell_type": "code",
      "metadata": {
        "colab": {
          "base_uri": "https://localhost:8080/"
        },
        "id": "QzWycrTgj0mb",
        "outputId": "9757745e-70f9-4045-ec3c-7051e4a6b1d1"
      },
      "source": [
        "#@ INITIALIZING F1 SCORE FUNCTION: \n",
        "def f1(y_true, y_pred):                         # Defining F1 Score Function. \n",
        "    p = precision(y_true, y_pred)               # Initializing Precision. \n",
        "    r = recall(y_true, y_pred)                  # Initializing Recall. \n",
        "    score = 2 * p * r / (p + r)                 # Getting F1 Score. \n",
        "    return score \n",
        "\n",
        "#@ IMPLEMENTATION OF F1 SCORE FUNCTION: \n",
        "print(f1(l1, l2))\n",
        "print(metrics.f1_score(l1, l2))"
      ],
      "execution_count": 10,
      "outputs": [
        {
          "output_type": "stream",
          "name": "stdout",
          "text": [
            "0.5714285714285715\n",
            "0.5714285714285715\n"
          ]
        }
      ]
    },
    {
      "cell_type": "markdown",
      "metadata": {
        "id": "vqlbhgT1q32D"
      },
      "source": [
        "**SENSITIVITY AND SPECIFICITY:**\n",
        "- **True Positive Rate** or **Recall** is known as **Sensitivity**. \n",
        "- **1 - False Positive Rate** is known as **Specificity**. "
      ]
    },
    {
      "cell_type": "code",
      "metadata": {
        "id": "kSgq_AeMqAJN"
      },
      "source": [
        "#@ INITIALIZING TRUE POSITIVE RATE: \n",
        "def tpr(y_true, y_pred):                       # Defining TPR Function. \n",
        "    return recall(y_true, y_pred)              # Implementation of Recall. \n",
        "\n",
        "#@ INITIALIZING FALSE POSITIVE RATE: \n",
        "def fpr(y_true, y_pred):                       # Defining FPR Function. \n",
        "    fp = false_positive(y_true, y_pred)        # Getting False Positive. \n",
        "    tn = true_negative(y_true, y_pred)         # Getting True Negative. \n",
        "    return fp / (tn + fp)"
      ],
      "execution_count": 11,
      "outputs": []
    },
    {
      "cell_type": "code",
      "metadata": {
        "colab": {
          "base_uri": "https://localhost:8080/",
          "height": 451
        },
        "id": "7LmUmv4EGvzS",
        "outputId": "33f57e2e-4a6c-46f9-8693-2a03420481c2"
      },
      "source": [
        "#@ INSPECTING TPR AND FPR: EXAMPLES: \n",
        "tpr_list, fpr_list = [], []                             # Initializing Lists.\n",
        "y_true = [0, 0, 0, 0, 1, 0, 1, 0, 0, 1, 0, 1, 0, 0, 1]  # Initializing Actual Targets. \n",
        "y_pred = [0.1, 0.3, 0.2, 0.6, 0.8, 0.05, 0.9, 0.5, 0.3, \n",
        "          0.66, 0.3, 0.2, 0.85, 0.15, 0.99]             # Initializing Predicted Probabilities. \n",
        "thresholds = [0, 0.1, 0.2, 0.3, 0.4, 0.5, 0.6, 0.7, \n",
        "              0.8, 0.85, 0.9, 0.99, 1.0]                # Initializing Thresholds. \n",
        "for thresh in thresholds:\n",
        "    temp_pred = [1 if x>=thresh else 0 for x in y_pred] # Getting Predictions for Thresholds. \n",
        "    temp_tpr = tpr(y_true, temp_pred)                   # Initializing TPR. \n",
        "    temp_fpr = fpr(y_true, temp_pred)                   # Initializing FPR. \n",
        "    tpr_list.append(temp_tpr)                           # Appending TPR Values. \n",
        "    fpr_list.append(temp_fpr)                           # Appending FPR Values. \n",
        "\n",
        "#@ PLOTTING TPR AND FPR VALUES: \n",
        "plt.figure(figsize=(7, 7))\n",
        "plt.fill_between(fpr_list, tpr_list, alpha=0.4)\n",
        "plt.plot(fpr_list, tpr_list, lw=3)\n",
        "plt.xlim(0, 1.0)\n",
        "plt.ylim(0, 1.0)\n",
        "plt.xlabel(\"FPR\", fontsize=15)\n",
        "plt.ylabel(\"TPR\", fontsize=15)\n",
        "plt.show();"
      ],
      "execution_count": 12,
      "outputs": [
        {
          "output_type": "display_data",
          "data": {
            "image/png": "[encoded data removed]",
            "text/plain": [
              "<Figure size 504x504 with 1 Axes>"
            ]
          },
          "metadata": {
            "needs_background": "light"
          }
        }
      ]
    },
    {
      "cell_type": "markdown",
      "metadata": {
        "id": "VIkEZmTNOAYv"
      },
      "source": [
        "**LOG LOSS FUNCTION:**"
      ]
    },
    {
      "cell_type": "code",
      "metadata": {
        "colab": {
          "base_uri": "https://localhost:8080/"
        },
        "id": "mIEFRbjYKgq_",
        "outputId": "41fca39a-722e-4ef6-d554-35d61c2e8184"
      },
      "source": [
        "#@ FUNCTION TO CALCULATE LOG LOSS: \n",
        "def log_loss(y_true, y_proba):                      # Defining Log Loss Function. \n",
        "    epsilon = 1e-15                                 # Initialization. \n",
        "    loss = []                                       # Initialization. \n",
        "    for yt, yp in zip(y_true, y_proba):\n",
        "        yp = np.clip(yp, epsilon, 1 - epsilon)      # Initializing Prediction Probabilites. \n",
        "        temp_loss = -1.0 * (yt * np.log(yp) + \n",
        "                            (1-yt)*np.log(1-yp))\n",
        "        loss.append(temp_loss)                      # Appending Loss. \n",
        "    return np.mean(loss)\n",
        "\n",
        "#@ IMPLEMENTATION OF LOG LOSS: \n",
        "y_true = [0, 0, 0, 0, 1, 0, 1, \n",
        "          0, 0, 1, 0, 1, 0, 0, 1]                   # Initializing Actual Targets. \n",
        "y_proba = [0.1, 0.3, 0.2, 0.6, 0.8, 0.05, \n",
        "           0.9, 0.5, 0.3, 0.66, 0.3, 0.2,\n",
        "           0.85, 0.15, 0.99]                        # Initializing Predicted Probabilities. \n",
        "log_loss(y_true, y_proba)                           # Inspection. \n",
        "\n",
        "#@ IMPLEMENTATION OF LOG LOSS: \n",
        "metrics.log_loss(y_true, y_proba)                   # Inspection. "
      ],
      "execution_count": 13,
      "outputs": [
        {
          "output_type": "execute_result",
          "data": {
            "text/plain": [
              "0.49882711861432294"
            ]
          },
          "metadata": {},
          "execution_count": 13
        }
      ]
    },
    {
      "cell_type": "code",
      "metadata": {
        "id": "XWba0ewBUCLX"
      },
      "source": [
        "#@ INITIALIZING MACRO AVERAGED PRECISION FUNCTION: \n",
        "def macro_precision(y_true, y_pred):                            # Defining Function. \n",
        "    num_classes = len(np.unique(y_true))                        # Initializing Number of Classes. \n",
        "    precision = 0                                               # Initialization. \n",
        "    for class_ in range(num_classes):\n",
        "        temp_true = [1 if p==class_ else 0 for p in y_true]     # Initializing One Hot Encoding. \n",
        "        temp_pred = [1 if p==class_ else 0 for p in y_pred]     # Initializing One Hot Encoding. \n",
        "        tp = true_positive(temp_true, temp_pred)                # Getting TP Value. \n",
        "        fp = false_positive(temp_true, temp_pred)               # Getting FP Value. \n",
        "        temp_precision = tp / (tp + fp)                         # Getting Precision Value. \n",
        "        precision += temp_precision\n",
        "    precision /= num_classes                                    # Getting Average Precision. \n",
        "    return precision"
      ],
      "execution_count": 14,
      "outputs": []
    },
    {
      "cell_type": "code",
      "metadata": {
        "id": "lpjeUnqa7b71"
      },
      "source": [
        "#@ INITIALIZING MICRO AVERAGED PRECISION FUNCTION: \n",
        "def micro_precision(y_true, y_pred):                            # Defining Function. \n",
        "    num_classes = len(np.unique(y_true))                        # Initializing Number of Classes. \n",
        "    tp, fp = 0, 0                                               # Initialization. \n",
        "    for class_ in range(num_classes):\n",
        "        temp_true = [1 if p==class_ else 0 for p in y_true]     # Initializing One Hot Encoding. \n",
        "        temp_pred = [1 if p==class_ else 0 for p in y_pred]     # Initializing One Hot Encoding. \n",
        "        tp += true_positive(temp_true, temp_pred)               # Getting TP Values. \n",
        "        fp += false_positive(temp_true, temp_pred)              # Getting FP Values. \n",
        "    precision = tp / (tp + fp)                                  # Getting Precision Value. \n",
        "    return precision\n",
        "\n",
        "#@ INITIALIZING WEIGHTED PRECISION FUNCTION: \n",
        "def weighted_precision(y_true, y_pred):                         # Defining Function. \n",
        "    num_classes = len(np.unique(y_true))                        # Initializing Number of Classes. \n",
        "    class_counts = Counter(y_true)                              # Initializing Counter. \n",
        "    precision = 0                                               # Initializing Precision. \n",
        "    for class_ in range(num_classes):\n",
        "        temp_true = [1 if p==class_ else 0 for p in y_true]     # Initializing One Hot Encoding. \n",
        "        temp_pred = [1 if p==class_ else 0 for p in y_pred]     # Initializing One Hot Encoding. \n",
        "        tp = true_positive(temp_true, temp_pred)                # Getting True Positive. \n",
        "        fp = false_positive(temp_true, temp_pred)               # Getting FP Values. \n",
        "        temp_precision = tp / (tp + fp)                         # Getting Precision Value. \n",
        "        weighted_precision=class_counts[class_]*temp_precision  # Initializing Multiplication. \n",
        "        precision += weighted_precision                         # Initializing Overall Precision. \n",
        "    overall_precision = precision / len(y_true)\n",
        "    return overall_precision                                    "
      ],
      "execution_count": 15,
      "outputs": []
    },
    {
      "cell_type": "code",
      "metadata": {
        "colab": {
          "base_uri": "https://localhost:8080/"
        },
        "id": "sVq_kc5cA4MJ",
        "outputId": "76bd6f23-951f-425b-a118-55bd3309df77"
      },
      "source": [
        "#@ IMPLEMENTATION OF FUNCTION: \n",
        "y_true = [0, 1, 2, 0, 1, 2, 0, 2, 2]                            # Initialization. \n",
        "y_pred = [0, 2, 1, 0, 2, 1, 0, 0, 2]                            # Initialization. \n",
        "print(macro_precision(y_true, y_pred))                          # Getting Macro Precision Value. \n",
        "print(metrics.precision_score(y_true, y_pred, average=\"macro\")) # Getting Macro Precision Value. \n",
        "print(micro_precision(y_true, y_pred))                          # Getting Micro Precision Value. \n",
        "print(metrics.precision_score(y_true, y_pred, average=\"micro\")) # Getting Micro Precision Value. \n",
        "print(weighted_precision(y_true, y_pred))                       # Getting Weighted Precision Value. \n",
        "metrics.precision_score(y_true, y_pred, average=\"weighted\")     # Getting Weighted Precision Value. "
      ],
      "execution_count": 16,
      "outputs": [
        {
          "output_type": "stream",
          "name": "stdout",
          "text": [
            "0.3611111111111111\n",
            "0.3611111111111111\n",
            "0.4444444444444444\n",
            "0.4444444444444444\n",
            "0.39814814814814814\n"
          ]
        },
        {
          "output_type": "execute_result",
          "data": {
            "text/plain": [
              "0.39814814814814814"
            ]
          },
          "metadata": {},
          "execution_count": 16
        }
      ]
    },
    {
      "cell_type": "code",
      "metadata": {
        "id": "fHApaa8ICKBY",
        "colab": {
          "base_uri": "https://localhost:8080/"
        },
        "outputId": "455cfffe-50b9-4c35-fb95-dcc93b7b7705"
      },
      "source": [
        "#@ INITIALIZING WEIGHTED F1 SCORE: \n",
        "def weighted_f1(y_true, y_pred):                              # Defining Function. \n",
        "    \"\"\"\n",
        "    Function to calculate weighted f1 score. \n",
        "    :param y_true: list of true values. \n",
        "    :param y_proba: list of predicted values. \n",
        "    :return: weighted f1 score. \n",
        "    \"\"\"\n",
        "    num_classes = len(np.unique(y_true))                      # Initializing number of classes. \n",
        "    class_counts = Counter(y_true)                            # Initializing sample count dictionary.\n",
        "    f1 = 0                                                    # Initializing f1. \n",
        "    for class_ in range(num_classes):                         # Iterating over all classes. \n",
        "        temp_true = [1 if p==class_ else 0 for p in y_true]   # Initialization. \n",
        "        temp_pred = [1 if p==class_ else 0 for p in y_pred]   # Initialization. \n",
        "        p = precision(temp_true, temp_pred)                   # Calculating precision. \n",
        "        r = recall(temp_true, temp_pred)                      # Calculating recall. \n",
        "        if p + r != 0:\n",
        "            temp_f1 = 2 * p * r / (p + r)                     # Calculating f1 score. \n",
        "        else: \n",
        "            temp_f1 = 0\n",
        "        weighted_f1 = class_counts[class_] * temp_f1          # Multiplication. \n",
        "        f1 += weighted_f1                                     # Addition. \n",
        "    overall_f1 = f1 / len(y_true)                             # Initializing overall f1. \n",
        "    return overall_f1\n",
        "\n",
        "#@ IMPLEMENTATION OF WEIGHTED F1: \n",
        "print(weighted_f1(y_true, y_pred))                            # Getting f1 score. \n",
        "metrics.f1_score(y_true, y_pred, average=\"weighted\")          # Getting f1 score. "
      ],
      "execution_count": 18,
      "outputs": [
        {
          "output_type": "stream",
          "name": "stdout",
          "text": [
            "0.41269841269841273\n"
          ]
        },
        {
          "output_type": "execute_result",
          "data": {
            "text/plain": [
              "0.41269841269841273"
            ]
          },
          "metadata": {},
          "execution_count": 18
        }
      ]
    },
    {
      "cell_type": "code",
      "metadata": {
        "colab": {
          "base_uri": "https://localhost:8080/",
          "height": 635
        },
        "id": "ZlFTAtBMFVtY",
        "outputId": "ae9f3f71-0ec9-40c9-c03e-41620dd1c59f"
      },
      "source": [
        "#@ PLOTTING CONFUSION MATRIX: \n",
        "cm = metrics.confusion_matrix(y_true, y_pred)                 # Initializing confusion matrix. \n",
        "plt.figure(figsize=(10, 10))\n",
        "cmap = sns.cubehelix_palette(50, hue=0.05, rot=0, light=0.9, \n",
        "                             dark=0, as_cmap=True)\n",
        "sns.set(font_scale=2.5)\n",
        "sns.heatmap(cm, annot=True, cmap=cmap, cbar=False)\n",
        "plt.xlabel(\"Predicted Labels\", fontsize=20)\n",
        "plt.ylabel(\"Actual Labels\", fontsize=20)\n",
        "plt.show();"
      ],
      "execution_count": 20,
      "outputs": [
        {
          "output_type": "display_data",
          "data": {
            "image/png": "[encoded data removed]",
            "text/plain": [
              "<Figure size 720x720 with 1 Axes>"
            ]
          },
          "metadata": {}
        }
      ]
    },
    {
      "cell_type": "code",
      "metadata": {
        "id": "zzgRZofJKwW_"
      },
      "source": [
        "#@ INITIALIZING PRECISION FOR MULTILABEL CLASSIFICATION: \n",
        "def pk(y_true, y_pred, k):                                      # Defining Function. \n",
        "    \"\"\"\n",
        "    Function to calculate precision at k. \n",
        "    :param y_true: list of actual classes values. \n",
        "    :param y_pred: list of predicted classes values. \n",
        "    :param k: the value for k. \n",
        "    :return: precision at a given value k. \n",
        "    \"\"\"\n",
        "    if k==0: return 0\n",
        "    y_pred = y_pred[:k]                                         # Initializing top k predictions. \n",
        "    pred_set = set(y_pred)                                      # Converting predictions to set. \n",
        "    true_set = set(y_true)                                      # Converting actual values to set. \n",
        "    common_values = pred_set.intersection(true_set)             # Initializing common values. \n",
        "    return len(common_values) / len(y_pred[:k])\n",
        "\n",
        "def apk(y_true, y_pred, k):                                     # Defining Function. \n",
        "    \"\"\"\n",
        "    Function to calculate average precision at k. \n",
        "    :param y_true: list of actual classes values. \n",
        "    :param y_pred: list of predicted classes values. \n",
        "    :param k: the value for k. \n",
        "    :return: average precision at a given value k. \n",
        "    \"\"\"\n",
        "    pk_values = []                                              # Initialization. \n",
        "    for i in range(1, k + 1):\n",
        "        pk_values.append(pk(y_true, y_pred, i))                 # Calculating precision at k. \n",
        "    if len(pk_values) == 0: return 0\n",
        "    return sum(pk_values) / len(pk_values)"
      ],
      "execution_count": 21,
      "outputs": []
    },
    {
      "cell_type": "code",
      "metadata": {
        "colab": {
          "base_uri": "https://localhost:8080/"
        },
        "id": "UIRX5oojRCsn",
        "outputId": "230681a6-67b8-4585-90e9-69eefe367501"
      },
      "source": [
        "#@ AVERAGE PRECISION AT K: \n",
        "y_true = [[1, 2, 3], [0, 2], [1], [2, 3], [1, 0], []]           # Initialization. \n",
        "y_pred = [[0, 1, 2], [1], [0, 2, 3], [2, 3, 4, 0], [0, 1, 2], \n",
        "          [0]]                                                  # Initialization. \n",
        "for i in range(len(y_true)):\n",
        "    for j in range(1, 4):\n",
        "        print(\n",
        "            f\"\"\"\n",
        "            y_true={y_true[i]},\n",
        "            y_pred={y_pred[i]},\n",
        "            AP@{j}={apk(y_true[i], y_pred[i], k=j)}\n",
        "            \"\"\"\n",
        "        )"
      ],
      "execution_count": 22,
      "outputs": [
        {
          "output_type": "stream",
          "name": "stdout",
          "text": [
            "\n",
            "            y_true=[1, 2, 3],\n",
            "            y_pred=[0, 1, 2],\n",
            "            AP@1=0.0\n",
            "            \n",
            "\n",
            "            y_true=[1, 2, 3],\n",
            "            y_pred=[0, 1, 2],\n",
            "            AP@2=0.25\n",
            "            \n",
            "\n",
            "            y_true=[1, 2, 3],\n",
            "            y_pred=[0, 1, 2],\n",
            "            AP@3=0.38888888888888884\n",
            "            \n",
            "\n",
            "            y_true=[0, 2],\n",
            "            y_pred=[1],\n",
            "            AP@1=0.0\n",
            "            \n",
            "\n",
            "            y_true=[0, 2],\n",
            "            y_pred=[1],\n",
            "            AP@2=0.0\n",
            "            \n",
            "\n",
            "            y_true=[0, 2],\n",
            "            y_pred=[1],\n",
            "            AP@3=0.0\n",
            "            \n",
            "\n",
            "            y_true=[1],\n",
            "            y_pred=[0, 2, 3],\n",
            "            AP@1=0.0\n",
            "            \n",
            "\n",
            "            y_true=[1],\n",
            "            y_pred=[0, 2, 3],\n",
            "            AP@2=0.0\n",
            "            \n",
            "\n",
            "            y_true=[1],\n",
            "            y_pred=[0, 2, 3],\n",
            "            AP@3=0.0\n",
            "            \n",
            "\n",
            "            y_true=[2, 3],\n",
            "            y_pred=[2, 3, 4, 0],\n",
            "            AP@1=1.0\n",
            "            \n",
            "\n",
            "            y_true=[2, 3],\n",
            "            y_pred=[2, 3, 4, 0],\n",
            "            AP@2=1.0\n",
            "            \n",
            "\n",
            "            y_true=[2, 3],\n",
            "            y_pred=[2, 3, 4, 0],\n",
            "            AP@3=0.8888888888888888\n",
            "            \n",
            "\n",
            "            y_true=[1, 0],\n",
            "            y_pred=[0, 1, 2],\n",
            "            AP@1=1.0\n",
            "            \n",
            "\n",
            "            y_true=[1, 0],\n",
            "            y_pred=[0, 1, 2],\n",
            "            AP@2=1.0\n",
            "            \n",
            "\n",
            "            y_true=[1, 0],\n",
            "            y_pred=[0, 1, 2],\n",
            "            AP@3=0.8888888888888888\n",
            "            \n",
            "\n",
            "            y_true=[],\n",
            "            y_pred=[0],\n",
            "            AP@1=0.0\n",
            "            \n",
            "\n",
            "            y_true=[],\n",
            "            y_pred=[0],\n",
            "            AP@2=0.0\n",
            "            \n",
            "\n",
            "            y_true=[],\n",
            "            y_pred=[0],\n",
            "            AP@3=0.0\n",
            "            \n"
          ]
        }
      ]
    },
    {
      "cell_type": "code",
      "metadata": {
        "id": "XsMsZ6_kSgE4"
      },
      "source": [
        ""
      ],
      "execution_count": null,
      "outputs": []
    }
  ]
}
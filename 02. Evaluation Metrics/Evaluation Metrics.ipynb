{
  "nbformat": 4,
  "nbformat_minor": 0,
  "metadata": {
    "colab": {
      "name": "Evaluation Metrics.ipynb",
      "provenance": []
    },
    "kernelspec": {
      "name": "python3",
      "display_name": "Python 3"
    },
    "language_info": {
      "name": "python"
    }
  },
  "cells": [
    {
      "cell_type": "markdown",
      "metadata": {
        "id": "13JmaEsH0SwL"
      },
      "source": [
        "**INITIALIZATION:**\n",
        "- I use these three lines of code on top of my each notebooks because it will help to prevent any problems while reloading the same project. And the third line of code helps to make visualization within the notebook."
      ]
    },
    {
      "cell_type": "code",
      "metadata": {
        "id": "8G3fcytGy1Cp"
      },
      "source": [
        "#@ INITIALIZATION: \n",
        "%reload_ext autoreload\n",
        "%autoreload 2\n",
        "%matplotlib inline"
      ],
      "execution_count": 1,
      "outputs": []
    },
    {
      "cell_type": "markdown",
      "metadata": {
        "id": "EW1J3VBj0g3N"
      },
      "source": [
        "**LIBRARIES AND DEPENDENCIES:**\n",
        "- I have downloaded all the libraries and dependencies required for the project in one particular cell."
      ]
    },
    {
      "cell_type": "code",
      "metadata": {
        "id": "QM4N-3MM0W4_"
      },
      "source": [
        "#@ GETTING LIBRARIES AND DEPENDENCIES: \n",
        "import numpy as np\n",
        "import pandas as pd\n",
        "import seaborn as sns\n",
        "import matplotlib\n",
        "import matplotlib.pyplot as plt\n",
        "\n",
        "from sklearn import datasets\n",
        "from sklearn import manifold\n",
        "from sklearn import metrics\n",
        "from sklearn import model_selection\n",
        "%matplotlib inline\n",
        "\n",
        "#@ IGNORING WARNINGS: \n",
        "import warnings\n",
        "warnings.filterwarnings(\"ignore\")"
      ],
      "execution_count": 2,
      "outputs": []
    },
    {
      "cell_type": "markdown",
      "metadata": {
        "id": "cz5ctDQu1M4B"
      },
      "source": [
        "**ACCURACY:**\n",
        "- It is one of the most straightforward metrics used in machine learning. It defines how accurate the model is. "
      ]
    },
    {
      "cell_type": "code",
      "metadata": {
        "colab": {
          "base_uri": "https://localhost:8080/"
        },
        "id": "1inQc-cO0s0e",
        "outputId": "b3222b30-1921-46e1-c50c-bd9ec52b4a08"
      },
      "source": [
        "#@ INITIALIZING ACCURACY FUNCTION: \n",
        "def accuracy(y_true, y_pred):                   # Defining Accuracy Function. \n",
        "    correct_counter = 0                         # Initializing Counter. \n",
        "    for yt, yp in zip(y_true, y_pred):          # Iterating over Elements. \n",
        "        if yt == yp:\n",
        "            correct_counter += 1\n",
        "    return correct_counter / len(y_true)        # Getting Accuracy. \n",
        "\n",
        "#@ IMPLEMENTATION OF ACCURACY:\n",
        "l1 = [0, 1, 1, 1, 0, 0, 0, 1]                   # Initializing a List. \n",
        "l2 = [0, 1, 0, 1, 0, 1, 0, 0]                   # Initializing a List. \n",
        "metrics.accuracy_score(l1, l2)                  # Inspecting Accuracy. "
      ],
      "execution_count": 3,
      "outputs": [
        {
          "output_type": "execute_result",
          "data": {
            "text/plain": [
              "0.625"
            ]
          },
          "metadata": {},
          "execution_count": 3
        }
      ]
    },
    {
      "cell_type": "code",
      "metadata": {
        "colab": {
          "base_uri": "https://localhost:8080/"
        },
        "id": "AbLj6itt3m7v",
        "outputId": "406c2780-93dd-42f7-e2d5-600c80fd0af7"
      },
      "source": [
        "#@ INITIALIIZING TRUE POSIITVE: \n",
        "def true_positive(y_true, y_pred):                 # Defining TP Function. \n",
        "    tp = 0                                         # Initialization. \n",
        "    for yt, yp in zip(y_true, y_pred):\n",
        "        if yt==1 and yp==1:\n",
        "            tp += 1\n",
        "    return tp                                      # Getting TP.\n",
        "\n",
        "#@ INITIALIZING TRUE NEGATIVE: \n",
        "def true_negative(y_true, y_pred):                 # Defining TN Function. \n",
        "    tn = 0                                         # Initialization. \n",
        "    for yt, yp in zip(y_true, y_pred):\n",
        "        if yt==0 and yp==0:\n",
        "            tn += 1 \n",
        "    return tn                                      # Getting TN. \n",
        "\n",
        "#@ INITIALIZING FALSE POSITIVE: \n",
        "def false_positive(y_true, y_pred):                # Defining FP Function. \n",
        "    fp = 0                                         # Initialization. \n",
        "    for yt, yp in zip(y_true, y_pred):\n",
        "        if yt==0 and yp==1:\n",
        "            fp += 1\n",
        "    return fp                                      # Getting FP.\n",
        "\n",
        "#@ INITIALIZING FALSE NEGATIVE: \n",
        "def false_negative(y_true, y_pred):                # Defining FN Function. \n",
        "    fn = 0                                         # Initialization. \n",
        "    for yt, yp in zip(y_true, y_pred):\n",
        "        if yt==1 and yp==0:\n",
        "            fn += 1\n",
        "    return fn                                      # Getting FN. \n",
        "\n",
        "#@ IMPLEMENTATION OF FUNCTION: \n",
        "print(true_positive(l1,l2),true_negative(l1,l2))   # Calculating TP and TN. \n",
        "print(false_positive(l1,l2),false_negative(l1,l2)) # Calculating FP and FN. "
      ],
      "execution_count": 4,
      "outputs": [
        {
          "output_type": "stream",
          "name": "stdout",
          "text": [
            "2 3\n",
            "1 2\n"
          ]
        }
      ]
    },
    {
      "cell_type": "markdown",
      "metadata": {
        "id": "L0_6uJnM-TEU"
      },
      "source": [
        "**Note:**\n",
        "- **Accuracy Score** = **(TP + TN) / (TP + TN + FP + FN)**"
      ]
    },
    {
      "cell_type": "code",
      "metadata": {
        "colab": {
          "base_uri": "https://localhost:8080/"
        },
        "id": "GJBu283N-E87",
        "outputId": "3b0f6f23-0e77-415b-9443-8422a3044a50"
      },
      "source": [
        "#@ INITIALIZING ACCURACY FUNCTION: \n",
        "def accuracy_v2(y_true, y_pred):                   # Defining Accuracy Function. \n",
        "    tp = true_positive(y_true, y_pred)             # Initializing TP. \n",
        "    fp = false_positive(y_true, y_pred)            # Initializing FP. \n",
        "    fn = false_negative(y_true, y_pred)            # Initializing FN. \n",
        "    tn = true_negative(y_true, y_pred)             # Initializing TN. \n",
        "    accuracy_score = (tp + tn) / (tp+tn+fp+fn)     # Initializing Accuracy Score. \n",
        "    return accuracy_score\n",
        "\n",
        "#@ COMPARING ACCURACY FUNCTION: \n",
        "print(accuracy(l1, l2))                            # Getting Accuracy. \n",
        "print(accuracy_v2(l1, l2))                         # Getting Accuracy. \n",
        "print(metrics.accuracy_score(l1, l2))              # Getting Accuracy. "
      ],
      "execution_count": 5,
      "outputs": [
        {
          "output_type": "stream",
          "name": "stdout",
          "text": [
            "0.625\n",
            "0.625\n",
            "0.625\n"
          ]
        }
      ]
    },
    {
      "cell_type": "markdown",
      "metadata": {
        "id": "xwmJXgHlcKpy"
      },
      "source": [
        "**PRECISION AND RECALL:**\n",
        "- **Precision = TP / (TP + FP)**\n",
        "- **Recall = TP / (TP + FN)**"
      ]
    },
    {
      "cell_type": "code",
      "metadata": {
        "id": "U_co7yb62CFx",
        "colab": {
          "base_uri": "https://localhost:8080/"
        },
        "outputId": "31c16383-5451-4ace-8e7d-45bd3e20409a"
      },
      "source": [
        "#@ INITIALIZING PRECISION FUNCTION: \n",
        "def precision(y_true, y_pred):                     # Defining Precision Function. \n",
        "    tp = true_positive(y_true, y_pred)             # Initializing TP. \n",
        "    fp = false_positive(y_true, y_pred)            # Initializing FP. \n",
        "    precision = tp / (tp + fp)                     # Getting Precision. \n",
        "    return precision\n",
        "\n",
        "#@ IMPLEMENTATION OF PRECISION FUNCTION: \n",
        "precision(l1, l2)"
      ],
      "execution_count": 6,
      "outputs": [
        {
          "output_type": "execute_result",
          "data": {
            "text/plain": [
              "0.6666666666666666"
            ]
          },
          "metadata": {},
          "execution_count": 6
        }
      ]
    },
    {
      "cell_type": "code",
      "metadata": {
        "colab": {
          "base_uri": "https://localhost:8080/"
        },
        "id": "8CJNm5urekna",
        "outputId": "9e8473b1-3514-4694-8f55-f8687eaf99b9"
      },
      "source": [
        "#@ INITIALIZING RECALL FUNCTION: \n",
        "def recall(y_true, y_pred):                        # Defining Precision Function. \n",
        "    tp = true_positive(y_true, y_pred)             # Initializing TP. \n",
        "    fn = false_negative(y_true, y_pred)            # Initializing FP. \n",
        "    recall = tp / (tp + fn)                        # Getting Precision. \n",
        "    return recall\n",
        "\n",
        "#@ IMPLEMENTATION OF PRECISION FUNCTION: \n",
        "recall(l1, l2)"
      ],
      "execution_count": 7,
      "outputs": [
        {
          "output_type": "execute_result",
          "data": {
            "text/plain": [
              "0.5"
            ]
          },
          "metadata": {},
          "execution_count": 7
        }
      ]
    },
    {
      "cell_type": "code",
      "metadata": {
        "id": "W-nN2u6CfW90"
      },
      "source": [
        "#@ INITIALIZING LISTS: EXAMPLE: \n",
        "y_true = [0, 0, 0, 1, 0, 0, 0, 0, 0, 0, \n",
        "          1, 0, 0, 0, 0, 0, 0, 0, 1, 0]                   # Initializing Target Examples. \n",
        "y_pred = [0.02638412, 0.11114267, 0.31620708,\n",
        "          0.0490937, 0.0191491, 0.17554844,\n",
        "          0.15952202, 0.03819563, 0.11639273,\n",
        "          0.079377, 0.08584789, 0.39095342,\n",
        "          0.27259048, 0.03447096, 0.04644807,\n",
        "          0.03543574, 0.18521942, 0.05934905,\n",
        "          0.61977213, 0.33056815]                         # Initializing Prediction Examples. \n",
        "thresholds = [0.0490937 , 0.05934905, 0.079377,\n",
        "              0.08584789, 0.11114267, 0.11639273,\n",
        "              0.15952202, 0.17554844, 0.18521942,\n",
        "              0.27259048, 0.31620708, 0.33056815,\n",
        "              0.39095342, 0.61977213]                     # Initializing Threshold Examples. "
      ],
      "execution_count": 8,
      "outputs": []
    },
    {
      "cell_type": "code",
      "metadata": {
        "colab": {
          "base_uri": "https://localhost:8080/",
          "height": 447
        },
        "id": "R5yPfVszh05b",
        "outputId": "5ff0e2d7-438b-49d8-cbe2-e61382216825"
      },
      "source": [
        "#@ GETTING PRECISION AND RECALL VALUES: \n",
        "precisions = []                                    # Initializing a List. \n",
        "recalls = []                                       # Initializing a List. \n",
        "for i in thresholds:\n",
        "    temp_pred=[1 if x>=i else 0 for x in y_pred]   # Getting Predictions. \n",
        "    p = precision(y_true, temp_pred)               # Getting Precision. \n",
        "    r = recall(y_true, temp_pred)                  # Getting Recall. \n",
        "    precisions.append(p)\n",
        "    recalls.append(r)\n",
        "\n",
        "#@ PLOTTING PRECISION AND RECALL CURVE: \n",
        "plt.figure(figsize=(7, 7))\n",
        "plt.plot(recalls, precisions)\n",
        "plt.xlabel(\"Recall\", fontsize=15)\n",
        "plt.ylabel(\"Precision\", fontsize=15)\n",
        "plt.show();"
      ],
      "execution_count": 10,
      "outputs": [
        {
          "output_type": "display_data",
          "data": {
            "image/png": "[encoded data removed]",
            "text/plain": [
              "<Figure size 504x504 with 1 Axes>"
            ]
          },
          "metadata": {
            "needs_background": "light"
          }
        }
      ]
    },
    {
      "cell_type": "markdown",
      "metadata": {
        "id": "40EaAIDcoZGD"
      },
      "source": [
        "**F1 SCORE:**\n",
        "- **F1 Score** is a metric that combines both precision and recall. It is defined as a simple weighted average of precision and recall. \n",
        "- **F1 = 2PR / (P + R)**"
      ]
    },
    {
      "cell_type": "code",
      "metadata": {
        "colab": {
          "base_uri": "https://localhost:8080/"
        },
        "id": "QzWycrTgj0mb",
        "outputId": "5e940f45-17e7-4a40-d633-22b3c4f9337b"
      },
      "source": [
        "#@ INITIALIZING F1 SCORE FUNCTION: \n",
        "def f1(y_true, y_pred):                         # Defining F1 Score Function. \n",
        "    p = precision(y_true, y_pred)               # Initializing Precision. \n",
        "    r = recall(y_true, y_pred)                  # Initializing Recall. \n",
        "    score = 2 * p * r / (p + r)                 # Getting F1 Score. \n",
        "    return score \n",
        "\n",
        "#@ IMPLEMENTATION OF F1 SCORE FUNCTION: \n",
        "print(f1(l1, l2))\n",
        "print(metrics.f1_score(l1, l2))"
      ],
      "execution_count": 12,
      "outputs": [
        {
          "output_type": "stream",
          "name": "stdout",
          "text": [
            "0.5714285714285715\n",
            "0.5714285714285715\n"
          ]
        }
      ]
    },
    {
      "cell_type": "markdown",
      "metadata": {
        "id": "vqlbhgT1q32D"
      },
      "source": [
        "**SENSITIVITY AND SPECIFICITY:**"
      ]
    },
    {
      "cell_type": "code",
      "metadata": {
        "id": "kSgq_AeMqAJN"
      },
      "source": [
        ""
      ],
      "execution_count": null,
      "outputs": []
    }
  ]
}